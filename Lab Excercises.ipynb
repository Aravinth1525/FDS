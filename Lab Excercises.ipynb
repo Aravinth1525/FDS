{
    "cells": [
        {
            "cell_type": "markdown",
            "source": [
                "First Code"
            ],
            "metadata": {}
        },
        {
            "cell_type": "code",
            "execution_count": 1,
            "source": [
                "print('Hello')"
            ],
            "outputs": [
                {
                    "output_type": "stream",
                    "name": "stdout",
                    "text": [
                        "Hello\n"
                    ]
                }
            ],
            "metadata": {}
        },
        {
            "cell_type": "markdown",
            "source": [
                "Using format specifiers"
            ],
            "metadata": {}
        },
        {
            "cell_type": "code",
            "execution_count": 2,
            "source": [
                "myVelloreTemp=31\n",
                "print(myVelloreTemp)"
            ],
            "outputs": [
                {
                    "output_type": "stream",
                    "name": "stdout",
                    "text": [
                        "31\n"
                    ]
                }
            ],
            "metadata": {}
        },
        {
            "cell_type": "code",
            "execution_count": 3,
            "source": [
                "tempMessage=\"The Temperature in Vellore is %s degree celsius\" #implicit conversion\n",
                "print(tempMessage % myVelloreTemp)"
            ],
            "outputs": [
                {
                    "output_type": "stream",
                    "name": "stdout",
                    "text": [
                        "The Temperature in Vellore is 31 degree celsius\n"
                    ]
                }
            ],
            "metadata": {}
        },
        {
            "cell_type": "code",
            "execution_count": 4,
            "source": [
                "character1='Son'\n",
                "character2='Dad'"
            ],
            "outputs": [],
            "metadata": {}
        },
        {
            "cell_type": "code",
            "execution_count": 5,
            "source": [
                "dialogue1 = \"%s: Dad, can you sign in the dark?\"\n",
                "dialogue2 = \"%s: Yes son, I can!\"\n",
                "dialogue3=\"%s: Dad, please sign my report...\"\n",
                "dialogue4=\"%s: :(\""
            ],
            "outputs": [],
            "metadata": {}
        },
        {
            "cell_type": "code",
            "execution_count": 6,
            "source": [
                "print(dialogue1 % character1)\n",
                "print(dialogue2 % character2)\n",
                "print(dialogue3 % character1)\n",
                "print(dialogue4 % character2)"
            ],
            "outputs": [
                {
                    "output_type": "stream",
                    "name": "stdout",
                    "text": [
                        "Son: Dad, can you sign in the dark?\n",
                        "Dad: Yes son, I can!\n",
                        "Son: Dad, please sign my report...\n",
                        "Dad: :(\n"
                    ]
                }
            ],
            "metadata": {}
        },
        {
            "cell_type": "code",
            "execution_count": 7,
            "source": [
                "moral = \"What would the %s have told his %s ?\""
            ],
            "outputs": [],
            "metadata": {}
        },
        {
            "cell_type": "code",
            "execution_count": 8,
            "source": [
                "print(moral % (character2 ,character1))"
            ],
            "outputs": [
                {
                    "output_type": "stream",
                    "name": "stdout",
                    "text": [
                        "What would the Dad have told his Son ?\n"
                    ]
                }
            ],
            "metadata": {}
        },
        {
            "cell_type": "markdown",
            "source": [
                "Lists"
            ],
            "metadata": {}
        },
        {
            "cell_type": "code",
            "execution_count": 9,
            "source": [
                "europeanTravelDestination=['Paris', 'Amsterdam','Serbia', 'Barcelona', 'Rome', 'Madrid', 'London', 'Budapest', 'Manchester']"
            ],
            "outputs": [],
            "metadata": {}
        },
        {
            "cell_type": "code",
            "execution_count": 10,
            "source": [
                "print(europeanTravelDestination)"
            ],
            "outputs": [
                {
                    "output_type": "stream",
                    "name": "stdout",
                    "text": [
                        "['Paris', 'Amsterdam', 'Serbia', 'Barcelona', 'Rome', 'Madrid', 'London', 'Budapest', 'Manchester']\n"
                    ]
                }
            ],
            "metadata": {}
        },
        {
            "cell_type": "code",
            "execution_count": 11,
            "source": [
                "print(europeanTravelDestination[3:6])"
            ],
            "outputs": [
                {
                    "output_type": "stream",
                    "name": "stdout",
                    "text": [
                        "['Barcelona', 'Rome', 'Madrid']\n"
                    ]
                }
            ],
            "metadata": {}
        },
        {
            "cell_type": "code",
            "execution_count": 12,
            "source": [
                "print(len(europeanTravelDestination))"
            ],
            "outputs": [
                {
                    "output_type": "stream",
                    "name": "stdout",
                    "text": [
                        "9\n"
                    ]
                }
            ],
            "metadata": {}
        },
        {
            "cell_type": "code",
            "execution_count": 13,
            "source": [
                "NationalParksIndia=['Kaziranga','Jim Corbett','Bhandipur','Guindy','Silent Valley','Sundarabn']"
            ],
            "outputs": [],
            "metadata": {}
        },
        {
            "cell_type": "code",
            "execution_count": 14,
            "source": [
                "myFavList=[europeanTravelDestination,NationalParksIndia]\n",
                "len(myFavList)"
            ],
            "outputs": [
                {
                    "output_type": "execute_result",
                    "data": {
                        "text/plain": [
                            "2"
                        ]
                    },
                    "metadata": {},
                    "execution_count": 14
                }
            ],
            "metadata": {}
        },
        {
            "cell_type": "code",
            "execution_count": 15,
            "source": [
                "for i in myFavList[0]:\n",
                "    print(i)"
            ],
            "outputs": [
                {
                    "output_type": "stream",
                    "name": "stdout",
                    "text": [
                        "Paris\n",
                        "Amsterdam\n",
                        "Serbia\n",
                        "Barcelona\n",
                        "Rome\n",
                        "Madrid\n",
                        "London\n",
                        "Budapest\n",
                        "Manchester\n"
                    ]
                }
            ],
            "metadata": {}
        },
        {
            "cell_type": "code",
            "execution_count": null,
            "source": [],
            "outputs": [],
            "metadata": {}
        }
    ],
    "metadata": {
        "orig_nbformat": 4,
        "language_info": {
            "name": "python",
            "version": "3.9.6",
            "mimetype": "text/x-python",
            "codemirror_mode": {
                "name": "ipython",
                "version": 3
            },
            "pygments_lexer": "ipython3",
            "nbconvert_exporter": "python",
            "file_extension": ".py"
        },
        "kernelspec": {
            "name": "python3",
            "display_name": "Python 3.9.6 64-bit"
        },
        "interpreter": {
            "hash": "aee8b7b246df8f9039afb4144a1f6fd8d2ca17a180786b69acc140d282b71a49"
        }
    },
    "nbformat": 4,
    "nbformat_minor": 2
}